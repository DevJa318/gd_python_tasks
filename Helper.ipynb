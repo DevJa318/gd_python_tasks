{
 "cells": [
  {
   "cell_type": "code",
   "execution_count": 27,
   "metadata": {},
   "outputs": [],
   "source": [
    "with open(\"zadanie2q.json\" , \"r\") as f:\n",
    "    input_json = json.load(f)"
   ]
  },
  {
   "cell_type": "code",
   "execution_count": 4,
   "metadata": {},
   "outputs": [],
   "source": [
    "import json"
   ]
  },
  {
   "cell_type": "code",
   "execution_count": 28,
   "metadata": {},
   "outputs": [
    {
     "data": {
      "text/plain": [
       "{'Survey_Name': {'Page_Name': {'Question1_Name': {'Description': 'Description of question',\n",
       "    'Answers': ['Answer1', 'Answer2', 'Answer3']},\n",
       "   'Question2_Name': {'Description': 'Description of question',\n",
       "    'Answers': ['Answer1', 'Answer2', 'Answer3']},\n",
       "   'Jak się masz?': {'Description': 'Description of question',\n",
       "    'Answers': ['Dobrze', 'Bardzo dobrze', 'Bywało lepiej']}}}}"
      ]
     },
     "execution_count": 28,
     "metadata": {},
     "output_type": "execute_result"
    }
   ],
   "source": [
    "input_json"
   ]
  },
  {
   "cell_type": "code",
   "execution_count": 29,
   "metadata": {},
   "outputs": [],
   "source": [
    "for sn in input_json.keys():\n",
    "    survey_name = sn"
   ]
  },
  {
   "cell_type": "code",
   "execution_count": 31,
   "metadata": {},
   "outputs": [],
   "source": [
    "for pn in input_json[survey_name].keys():\n",
    "    page_name = pn"
   ]
  },
  {
   "cell_type": "code",
   "execution_count": 32,
   "metadata": {},
   "outputs": [
    {
     "data": {
      "text/plain": [
       "{'Question1_Name': {'Description': 'Description of question',\n",
       "  'Answers': ['Answer1', 'Answer2', 'Answer3']},\n",
       " 'Question2_Name': {'Description': 'Description of question',\n",
       "  'Answers': ['Answer1', 'Answer2', 'Answer3']},\n",
       " 'Jak się masz?': {'Description': 'Description of question',\n",
       "  'Answers': ['Dobrze', 'Bardzo dobrze', 'Bywało lepiej']}}"
      ]
     },
     "execution_count": 32,
     "metadata": {},
     "output_type": "execute_result"
    }
   ],
   "source": [
    "input_json[sn][pn]"
   ]
  },
  {
   "cell_type": "code",
   "execution_count": 41,
   "metadata": {},
   "outputs": [],
   "source": [
    "questions={}\n",
    "for question in input_json[sn][pn]:\n",
    "    questions[question] = input_json[sn][pn][question][\"Answers\"]"
   ]
  },
  {
   "cell_type": "code",
   "execution_count": 42,
   "metadata": {},
   "outputs": [
    {
     "data": {
      "text/plain": [
       "{'Question1_Name': ['Answer1', 'Answer2', 'Answer3'],\n",
       " 'Question2_Name': ['Answer1', 'Answer2', 'Answer3'],\n",
       " 'Jak się masz?': ['Dobrze', 'Bardzo dobrze', 'Bywało lepiej']}"
      ]
     },
     "execution_count": 42,
     "metadata": {},
     "output_type": "execute_result"
    }
   ],
   "source": [
    "questions"
   ]
  },
  {
   "cell_type": "code",
   "execution_count": 17,
   "metadata": {},
   "outputs": [
    {
     "name": "stdout",
     "output_type": "stream",
     "text": [
      "['Dobrze', 'Bardzo dobrze', 'Bywało lepiej']\n"
     ]
    }
   ],
   "source": [
    "print(questions[i][e][p][\"Answers\"])"
   ]
  },
  {
   "cell_type": "code",
   "execution_count": null,
   "metadata": {},
   "outputs": [],
   "source": [
    "questions=[]\n",
    "for question in questions:\n",
    "    question\n",
    "qeustions={\n",
    "    \"headings\": [\n",
    "\n",
    "    ]\n",
    "}"
   ]
  },
  {
   "cell_type": "code",
   "execution_count": 25,
   "metadata": {},
   "outputs": [
    {
     "name": "stdout",
     "output_type": "stream",
     "text": [
      "Question1_Name\n",
      "Answer1\n",
      "Answer2\n",
      "Answer3\n",
      "Question2_Name\n",
      "Answer1\n",
      "Answer2\n",
      "Answer3\n",
      "Jak się masz?\n",
      "Dobrze\n",
      "Bardzo dobrze\n",
      "Bywało lepiej\n"
     ]
    }
   ],
   "source": [
    "for question in questions[sn][pn]:\n",
    "    print(question)\n",
    "    for answer in questions[sn][pn][question][\"Answers\"]:\n",
    "        print(answer)"
   ]
  },
  {
   "cell_type": "code",
   "execution_count": 23,
   "metadata": {},
   "outputs": [
    {
     "data": {
      "text/plain": [
       "{'Survey_Name': {'Page_Name': {'Question1_Name': {'Description': 'Description of question',\n",
       "    'Answers': ['Answer1', 'Answer2', 'Answer3']},\n",
       "   'Question2_Name': {'Description': 'Description of question',\n",
       "    'Answers': ['Answer1', 'Answer2', 'Answer3']},\n",
       "   'Jak się masz?': {'Description': 'Description of question',\n",
       "    'Answers': ['Dobrze', 'Bardzo dobrze', 'Bywało lepiej']}}}}"
      ]
     },
     "execution_count": 23,
     "metadata": {},
     "output_type": "execute_result"
    }
   ],
   "source": [
    "questions"
   ]
  },
  {
   "cell_type": "code",
   "execution_count": null,
   "metadata": {},
   "outputs": [
    {
     "ename": "SyntaxError",
     "evalue": "invalid syntax (4002169095.py, line 5)",
     "output_type": "error",
     "traceback": [
      "\u001b[0;36m  Cell \u001b[0;32mIn[45], line 5\u001b[0;36m\u001b[0m\n\u001b[0;31m    \"position\":question_number:int\u001b[0m\n\u001b[0m                              ^\u001b[0m\n\u001b[0;31mSyntaxError\u001b[0m\u001b[0;31m:\u001b[0m invalid syntax\n"
     ]
    }
   ],
   "source": [
    "elo = [{\n",
    "    \"headings\":{\n",
    "        \"heading\": question,\n",
    "    },\n",
    "    \"position\":question_number:int,\n",
    "    \"family\": \"single_choice\",\n",
    "    \"answers\": {\n",
    "        \"choises\":[\n",
    "            {\n",
    "                \"text\" : \n",
    "            }\n",
    "             {\n",
    "                \"text\" : \n",
    "            }\n",
    "        ]\n",
    "    },\n",
    "}]}]}"
   ]
  },
  {
   "cell_type": "code",
   "execution_count": 66,
   "metadata": {},
   "outputs": [],
   "source": [
    "questions_list = {}\n",
    "questions = input_json[sn][pn]\n",
    "i = 0\n",
    "for question in questions:\n",
    "    questions_list[i] = []\n",
    "    questions_list[i].append(question)\n",
    "    questions_list[i].append(questions[question][\"Answers\"])\n",
    "    i+=1"
   ]
  },
  {
   "cell_type": "code",
   "execution_count": 67,
   "metadata": {},
   "outputs": [
    {
     "data": {
      "text/plain": [
       "{0: ['Question1_Name', ['Answer1', 'Answer2', 'Answer3']],\n",
       " 1: ['Question2_Name', ['Answer1', 'Answer2', 'Answer3']],\n",
       " 2: ['Jak się masz?', ['Dobrze', 'Bardzo dobrze', 'Bywało lepiej']]}"
      ]
     },
     "execution_count": 67,
     "metadata": {},
     "output_type": "execute_result"
    }
   ],
   "source": [
    "questions_list"
   ]
  },
  {
   "cell_type": "code",
   "execution_count": 72,
   "metadata": {},
   "outputs": [
    {
     "data": {
      "text/plain": [
       "'Jak się masz?'"
      ]
     },
     "execution_count": 72,
     "metadata": {},
     "output_type": "execute_result"
    }
   ],
   "source": [
    "questions_list[2][0]"
   ]
  },
  {
   "cell_type": "code",
   "execution_count": 77,
   "metadata": {},
   "outputs": [
    {
     "name": "stdout",
     "output_type": "stream",
     "text": [
      "Dobrze\n",
      "Bardzo dobrze\n",
      "Bywało lepiej\n"
     ]
    }
   ],
   "source": [
    "for a in questions_list[2][1]:\n",
    "    print(a)"
   ]
  },
  {
   "cell_type": "code",
   "execution_count": 79,
   "metadata": {},
   "outputs": [],
   "source": [
    "question_data =  [] \n",
    "for i in range(len(questions_list)):\n",
    "    answers = []\n",
    "    for answer in questions_list[i][1]:\n",
    "        answers.append({ \"text\" : answer })\n",
    "    \n",
    "    siema = { \"headings\": {\n",
    "        \"heading\": questions_list[i][0],\n",
    "    },\n",
    "    \"position\": i+1,\n",
    "    \"family\": \"single_choice\",\n",
    "    \"answers\": {\"choices\": answers}}\n",
    "\n",
    "    question_data.append(siema)"
   ]
  },
  {
   "cell_type": "code",
   "execution_count": 80,
   "metadata": {},
   "outputs": [
    {
     "data": {
      "text/plain": [
       "[{'headings': {'heading': 'Question1_Name'},\n",
       "  'position': 1,\n",
       "  'family': 'single_choice',\n",
       "  'answers': {'choices': [{'text': 'Answer1'},\n",
       "    {'text': 'Answer2'},\n",
       "    {'text': 'Answer3'}]}},\n",
       " {'headings': {'heading': 'Question2_Name'},\n",
       "  'position': 2,\n",
       "  'family': 'single_choice',\n",
       "  'answers': {'choices': [{'text': 'Answer1'},\n",
       "    {'text': 'Answer2'},\n",
       "    {'text': 'Answer3'}]}},\n",
       " {'headings': {'heading': 'Jak się masz?'},\n",
       "  'position': 3,\n",
       "  'family': 'single_choice',\n",
       "  'answers': {'choices': [{'text': 'Dobrze'},\n",
       "    {'text': 'Bardzo dobrze'},\n",
       "    {'text': 'Bywało lepiej'}]}}]"
      ]
     },
     "execution_count": 80,
     "metadata": {},
     "output_type": "execute_result"
    }
   ],
   "source": [
    "question_data"
   ]
  },
  {
   "cell_type": "code",
   "execution_count": 81,
   "metadata": {},
   "outputs": [
    {
     "data": {
      "text/plain": [
       "{'title': 'WITAJ',\n",
       " 'nickname': 'WITAJ',\n",
       " 'language': 'en',\n",
       " 'folder_id': '0',\n",
       " 'category': '',\n",
       " 'question_count': 3,\n",
       " 'page_count': 1,\n",
       " 'response_count': 0,\n",
       " 'date_created': '2024-12-11T14:51:00',\n",
       " 'date_modified': '2024-12-11T14:51:00',\n",
       " 'id': '521387143',\n",
       " 'buttons_text': {'next_button': 'Next',\n",
       "  'prev_button': 'Prev',\n",
       "  'done_button': 'Done',\n",
       "  'exit_button': 'Exit'},\n",
       " 'is_owner': True,\n",
       " 'footer': True,\n",
       " 'theme_id': '10292568',\n",
       " 'template_id': None,\n",
       " 'custom_variables': {},\n",
       " 'href': 'https://api.surveymonkey.com/v3/surveys/521387143',\n",
       " 'analyze_url': 'https://www.surveymonkey.com/analyze/0OI_2FhqiWp96vx_2BdwiG9BkJiVhBfqc5Ol4XqTx1DengU_3D',\n",
       " 'edit_url': 'https://www.surveymonkey.com/create/?sm=0OI_2FhqiWp96vx_2BdwiG9BkJiVhBfqc5Ol4XqTx1DengU_3D',\n",
       " 'collect_url': 'https://www.surveymonkey.com/collect/list?sm=0OI_2FhqiWp96vx_2BdwiG9BkJiVhBfqc5Ol4XqTx1DengU_3D',\n",
       " 'summary_url': 'https://www.surveymonkey.com/summary/0OI_2FhqiWp96vx_2BdwiG9BkJiVhBfqc5Ol4XqTx1DengU_3D',\n",
       " 'preview': 'https://www.surveymonkey.com/r/Preview/?sm=_2BhKeMSrjyoM1RK4MAxGU_2BTpSqGBk_2BmxxJb4pVgwOztel14s_2Bxvihaudg8cCS71Kf'}"
      ]
     },
     "execution_count": 81,
     "metadata": {},
     "output_type": "execute_result"
    }
   ],
   "source": [
    "{'title': 'WITAJ', 'nickname': 'WITAJ', 'language': 'en', 'folder_id': '0', 'category': '', 'question_count': 3, 'page_count': 1, 'response_count': 0, 'date_created': '2024-12-11T14:51:00', 'date_modified': '2024-12-11T14:51:00', 'id': '521387143', 'buttons_text': {'next_button': 'Next', 'prev_button': 'Prev', 'done_button': 'Done', 'exit_button': 'Exit'}, 'is_owner': True, 'footer': True, 'theme_id': '10292568', 'template_id': None, 'custom_variables': {}, 'href': 'https://api.surveymonkey.com/v3/surveys/521387143', 'analyze_url': 'https://www.surveymonkey.com/analyze/0OI_2FhqiWp96vx_2BdwiG9BkJiVhBfqc5Ol4XqTx1DengU_3D', 'edit_url': 'https://www.surveymonkey.com/create/?sm=0OI_2FhqiWp96vx_2BdwiG9BkJiVhBfqc5Ol4XqTx1DengU_3D', 'collect_url': 'https://www.surveymonkey.com/collect/list?sm=0OI_2FhqiWp96vx_2BdwiG9BkJiVhBfqc5Ol4XqTx1DengU_3D', 'summary_url': 'https://www.surveymonkey.com/summary/0OI_2FhqiWp96vx_2BdwiG9BkJiVhBfqc5Ol4XqTx1DengU_3D', 'preview': 'https://www.surveymonkey.com/r/Preview/?sm=_2BhKeMSrjyoM1RK4MAxGU_2BTpSqGBk_2BmxxJb4pVgwOztel14s_2Bxvihaudg8cCS71Kf'}"
   ]
  },
  {
   "cell_type": "code",
   "execution_count": 82,
   "metadata": {},
   "outputs": [],
   "source": [
    "response ={'title': 'WITAJ', 'nickname': 'WITAJ', 'language': 'en', 'folder_id': '0', 'category': '', 'question_count': 3, 'page_count': 1, 'response_count': 0, 'date_created': '2024-12-11T14:51:00', 'date_modified': '2024-12-11T14:51:00', 'id': '521387143', 'buttons_text': {'next_button': 'Next', 'prev_button': 'Prev', 'done_button': 'Done', 'exit_button': 'Exit'}, 'is_owner': True, 'footer': True, 'theme_id': '10292568', 'template_id': None, 'custom_variables': {}, 'href': 'https://api.surveymonkey.com/v3/surveys/521387143', 'analyze_url': 'https://www.surveymonkey.com/analyze/0OI_2FhqiWp96vx_2BdwiG9BkJiVhBfqc5Ol4XqTx1DengU_3D', 'edit_url': 'https://www.surveymonkey.com/create/?sm=0OI_2FhqiWp96vx_2BdwiG9BkJiVhBfqc5Ol4XqTx1DengU_3D', 'collect_url': 'https://www.surveymonkey.com/collect/list?sm=0OI_2FhqiWp96vx_2BdwiG9BkJiVhBfqc5Ol4XqTx1DengU_3D', 'summary_url': 'https://www.surveymonkey.com/summary/0OI_2FhqiWp96vx_2BdwiG9BkJiVhBfqc5Ol4XqTx1DengU_3D', 'preview': 'https://www.surveymonkey.com/r/Preview/?sm=_2BhKeMSrjyoM1RK4MAxGU_2BTpSqGBk_2BmxxJb4pVgwOztel14s_2Bxvihaudg8cCS71Kf'}"
   ]
  },
  {
   "cell_type": "code",
   "execution_count": 84,
   "metadata": {},
   "outputs": [
    {
     "data": {
      "text/plain": [
       "'521387143'"
      ]
     },
     "execution_count": 84,
     "metadata": {},
     "output_type": "execute_result"
    }
   ],
   "source": [
    "response[\"id\"]"
   ]
  },
  {
   "cell_type": "code",
   "execution_count": null,
   "metadata": {},
   "outputs": [],
   "source": []
  }
 ],
 "metadata": {
  "kernelspec": {
   "display_name": "3.13.0",
   "language": "python",
   "name": "python3"
  },
  "language_info": {
   "codemirror_mode": {
    "name": "ipython",
    "version": 3
   },
   "file_extension": ".py",
   "mimetype": "text/x-python",
   "name": "python",
   "nbconvert_exporter": "python",
   "pygments_lexer": "ipython3",
   "version": "3.13.0"
  }
 },
 "nbformat": 4,
 "nbformat_minor": 2
}
